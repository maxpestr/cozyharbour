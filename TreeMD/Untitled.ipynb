{
 "cells": [
  {
   "cell_type": "code",
   "execution_count": 1,
   "id": "3e39c73a-2351-4575-b701-750a293055d5",
   "metadata": {},
   "outputs": [],
   "source": [
    "import sys, os\n",
    "\n",
    "# вместо __file__ — путь к текущему ноутбуку\n",
    "notebook_dir = os.getcwd()\n",
    "sys.path.append(os.path.join(notebook_dir, \"build\"))\n"
   ]
  },
  {
   "cell_type": "code",
   "execution_count": 2,
   "id": "1f5b84ea-80e3-4864-bb42-50100aabc385",
   "metadata": {},
   "outputs": [
    {
     "name": "stdout",
     "output_type": "stream",
     "text": [
      "<module 'core' from 'C:\\\\Users\\\\user\\\\Documents\\\\PycharmProjects\\\\PythonProject\\\\TreeMD\\\\core.cp313-win_amd64.pyd'>\n"
     ]
    }
   ],
   "source": [
    "import core\n",
    "print(core)\n"
   ]
  },
  {
   "cell_type": "code",
   "execution_count": null,
   "id": "2fda3bf0-c468-49d0-b94a-e6780a397916",
   "metadata": {},
   "outputs": [],
   "source": []
  }
 ],
 "metadata": {
  "kernelspec": {
   "display_name": "Python [conda env:base] *",
   "language": "python",
   "name": "conda-base-py"
  },
  "language_info": {
   "codemirror_mode": {
    "name": "ipython",
    "version": 3
   },
   "file_extension": ".py",
   "mimetype": "text/x-python",
   "name": "python",
   "nbconvert_exporter": "python",
   "pygments_lexer": "ipython3",
   "version": "3.13.5"
  }
 },
 "nbformat": 4,
 "nbformat_minor": 5
}
