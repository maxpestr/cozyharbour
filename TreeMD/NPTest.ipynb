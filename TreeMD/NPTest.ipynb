{
 "cells": [
  {
   "cell_type": "code",
   "id": "c85f74ac-98be-406b-b277-e322c16854f9",
   "metadata": {
    "ExecuteTime": {
     "end_time": "2025-10-14T16:48:42.305769Z",
     "start_time": "2025-10-14T16:48:40.285746Z"
    }
   },
   "source": [
    "import numpy as np\n",
    "import time\n",
    "\n",
    "N = 3000\n",
    "\n",
    "def test_numpy(dtype=np.float32):\n",
    "    A = np.random.rand(N, N).astype(dtype)\n",
    "    B = np.random.rand(N, N).astype(dtype)\n",
    "\n",
    "    start = time.time()\n",
    "    C = np.dot(A, B)\n",
    "    end = time.time()\n",
    "\n",
    "    print(f\"NumPy {dtype.__name__} time: {end - start:.3f} s\")\n",
    "\n",
    "test_numpy(np.float32)\n",
    "test_numpy(np.float64)\n"
   ],
   "outputs": [
    {
     "name": "stdout",
     "output_type": "stream",
     "text": [
      "NumPy float32 time: 0.391 s\n",
      "NumPy float64 time: 0.861 s\n"
     ]
    }
   ],
   "execution_count": 2
  },
  {
   "cell_type": "code",
   "id": "79168126-4dfb-4829-83ea-d67bd20d30ef",
   "metadata": {
    "ExecuteTime": {
     "end_time": "2025-10-14T16:48:44.023713Z",
     "start_time": "2025-10-14T16:48:43.999856Z"
    }
   },
   "source": [
    "import numpy as np\n",
    "import nptest\n",
    "\n",
    "def run(dtype=np.float32):\n",
    "    n = 3000\n",
    "    A = np.random.rand(n, n).astype(dtype)\n",
    "    B = np.random.rand(n, n).astype(dtype)\n",
    "\n",
    "    C, t = nptest.matmul_f32(A, B) if dtype == np.float32 else nptest.matmul_f64(A, B)\n",
    "    print(f\"C++ {dtype.__name__} time: {t:.3f} s\")"
   ],
   "outputs": [],
   "execution_count": 3
  },
  {
   "metadata": {
    "ExecuteTime": {
     "end_time": "2025-10-14T16:48:48.046490Z",
     "start_time": "2025-10-14T16:48:46.279096Z"
    }
   },
   "cell_type": "code",
   "source": [
    "run(np.float32)\n",
    "run(np.float64)"
   ],
   "id": "e297290c157d94fb",
   "outputs": [
    {
     "name": "stdout",
     "output_type": "stream",
     "text": [
      "C++ float32 time: 0.351 s\n",
      "C++ float64 time: 0.768 s\n"
     ]
    }
   ],
   "execution_count": 4
  },
  {
   "metadata": {
    "ExecuteTime": {
     "end_time": "2025-10-14T16:49:25.952789Z",
     "start_time": "2025-10-14T16:49:22.390491Z"
    }
   },
   "cell_type": "code",
   "source": [
    "test_numpy(np.float32)\n",
    "test_numpy(np.float64)\n",
    "run(np.float32)\n",
    "run(np.float64)"
   ],
   "id": "a38290737f6e7a6d",
   "outputs": [
    {
     "name": "stdout",
     "output_type": "stream",
     "text": [
      "NumPy float32 time: 0.337 s\n",
      "NumPy float64 time: 0.921 s\n",
      "C++ float32 time: 0.351 s\n",
      "C++ float64 time: 0.774 s\n"
     ]
    }
   ],
   "execution_count": 8
  },
  {
   "metadata": {
    "ExecuteTime": {
     "end_time": "2025-10-14T16:49:02.970142Z",
     "start_time": "2025-10-14T16:49:01.619611Z"
    }
   },
   "cell_type": "code",
   "source": [
    "run(np.float32)\n",
    "run(np.float64)"
   ],
   "id": "b49fe24b44ad3c1b",
   "outputs": [
    {
     "name": "stdout",
     "output_type": "stream",
     "text": [
      "C++ float32 time: 0.295 s\n",
      "C++ float64 time: 0.616 s\n"
     ]
    }
   ],
   "execution_count": 6
  },
  {
   "metadata": {},
   "cell_type": "code",
   "outputs": [],
   "execution_count": null,
   "source": "",
   "id": "ea7029726a9a55c0"
  }
 ],
 "metadata": {
  "kernelspec": {
   "display_name": "Python [conda env:base] *",
   "language": "python",
   "name": "conda-base-py"
  },
  "language_info": {
   "codemirror_mode": {
    "name": "ipython",
    "version": 3
   },
   "file_extension": ".py",
   "mimetype": "text/x-python",
   "name": "python",
   "nbconvert_exporter": "python",
   "pygments_lexer": "ipython3",
   "version": "3.13.5"
  }
 },
 "nbformat": 4,
 "nbformat_minor": 5
}
