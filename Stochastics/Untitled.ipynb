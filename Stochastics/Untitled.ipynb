{
 "cells": [
  {
   "cell_type": "code",
   "execution_count": 1,
   "id": "9b8e3392-4a39-48e6-b1ee-a638ee4ad3e2",
   "metadata": {},
   "outputs": [
    {
     "name": "stdout",
     "output_type": "stream",
     "text": [
      "Collecting jupytext\n",
      "  Downloading jupytext-1.17.3-py3-none-any.whl.metadata (14 kB)\n",
      "Requirement already satisfied: markdown-it-py>=1.0 in c:\\programdata\\anaconda3\\lib\\site-packages (from jupytext) (2.2.0)\n",
      "Requirement already satisfied: mdit-py-plugins in c:\\programdata\\anaconda3\\lib\\site-packages (from jupytext) (0.3.0)\n",
      "Requirement already satisfied: nbformat in c:\\programdata\\anaconda3\\lib\\site-packages (from jupytext) (5.10.4)\n",
      "Requirement already satisfied: packaging in c:\\programdata\\anaconda3\\lib\\site-packages (from jupytext) (24.2)\n",
      "Requirement already satisfied: pyyaml in c:\\programdata\\anaconda3\\lib\\site-packages (from jupytext) (6.0.2)\n",
      "Requirement already satisfied: mdurl~=0.1 in c:\\programdata\\anaconda3\\lib\\site-packages (from markdown-it-py>=1.0->jupytext) (0.1.0)\n",
      "Requirement already satisfied: fastjsonschema>=2.15 in c:\\programdata\\anaconda3\\lib\\site-packages (from nbformat->jupytext) (2.20.0)\n",
      "Requirement already satisfied: jsonschema>=2.6 in c:\\programdata\\anaconda3\\lib\\site-packages (from nbformat->jupytext) (4.23.0)\n",
      "Requirement already satisfied: jupyter-core!=5.0.*,>=4.12 in c:\\programdata\\anaconda3\\lib\\site-packages (from nbformat->jupytext) (5.7.2)\n",
      "Requirement already satisfied: traitlets>=5.1 in c:\\programdata\\anaconda3\\lib\\site-packages (from nbformat->jupytext) (5.14.3)\n",
      "Requirement already satisfied: attrs>=22.2.0 in c:\\programdata\\anaconda3\\lib\\site-packages (from jsonschema>=2.6->nbformat->jupytext) (24.3.0)\n",
      "Requirement already satisfied: jsonschema-specifications>=2023.03.6 in c:\\programdata\\anaconda3\\lib\\site-packages (from jsonschema>=2.6->nbformat->jupytext) (2023.7.1)\n",
      "Requirement already satisfied: referencing>=0.28.4 in c:\\programdata\\anaconda3\\lib\\site-packages (from jsonschema>=2.6->nbformat->jupytext) (0.30.2)\n",
      "Requirement already satisfied: rpds-py>=0.7.1 in c:\\programdata\\anaconda3\\lib\\site-packages (from jsonschema>=2.6->nbformat->jupytext) (0.22.3)\n",
      "Requirement already satisfied: platformdirs>=2.5 in c:\\programdata\\anaconda3\\lib\\site-packages (from jupyter-core!=5.0.*,>=4.12->nbformat->jupytext) (4.3.7)\n",
      "Requirement already satisfied: pywin32>=300 in c:\\programdata\\anaconda3\\lib\\site-packages (from jupyter-core!=5.0.*,>=4.12->nbformat->jupytext) (308)\n",
      "Downloading jupytext-1.17.3-py3-none-any.whl (166 kB)\n",
      "Installing collected packages: jupytext\n",
      "Successfully installed jupytext-1.17.3\n",
      "Note: you may need to restart the kernel to use updated packages.\n"
     ]
    }
   ],
   "source": [
    "pip install jupytext"
   ]
  },
  {
   "cell_type": "code",
   "execution_count": 1,
   "id": "9210a4f5-4ced-41d0-a021-8175a3f5197e",
   "metadata": {},
   "outputs": [
    {
     "name": "stderr",
     "output_type": "stream",
     "text": [
      "JupyterLab v4.3.4\n",
      "C:\\ProgramData\\anaconda3\\share\\jupyter\\labextensions\n",
      "        jupyterlab-jupytext v1.4.5 enabled ok (python, jupytext)\n",
      "        jupyterlab-plotly v5.24.1 enabled  X\n",
      "        jupyterlab_pygments v0.3.0 enabled ok (python, jupyterlab_pygments)\n",
      "        @anaconda/assistant v4.18.0 enabled ok (python, aext_assistant)\n",
      "        @anaconda/core v4.20.0 enabled ok (python, aext_core)\n",
      "        @anaconda/panels v4.20.0 enabled ok (python, aext_panels)\n",
      "        @anaconda/share_notebook v4.20.0 enabled ok (python, aext_share_notebook)\n",
      "        @anaconda/toolbox v4.20.0 enabled ok (python, aext_toolbox)\n",
      "        @jupyter-notebook/lab-extension v7.3.2 enabled ok\n",
      "        @jupyter-widgets/jupyterlab-manager v5.0.13 enabled ok (python, jupyterlab_widgets)\n",
      "        @lckr/jupyterlab_variableinspector v3.2.4 enabled ok (python, lckr_jupyterlab_variableinspector)\n",
      "        @pyviz/jupyterlab_pyviz v3.0.2 enabled ok\n",
      "\n",
      "\n",
      "   The following extensions may be outdated or specify dependencies that are incompatible with the current version of jupyterlab:\n",
      "        jupyterlab-plotly\n",
      "        \n",
      "   If you are a user, check if an update is available for these packages.\n",
      "   If you are a developer, re-run with `--verbose` flag for more details.\n",
      "\n"
     ]
    }
   ],
   "source": [
    "!jupyter labextension list"
   ]
  },
  {
   "cell_type": "code",
   "execution_count": 13,
   "id": "8b8af79a-affa-462e-8c8b-9604c7f1b712",
   "metadata": {},
   "outputs": [],
   "source": [
    "import pandas as pd"
   ]
  },
  {
   "cell_type": "code",
   "execution_count": 35,
   "id": "5fd8a782-533a-4e5a-89a7-98c153222f53",
   "metadata": {},
   "outputs": [],
   "source": [
    "import math\n",
    "class Vector:\n",
    "     def __init__(self, x=0, y=0):\n",
    "         self.x = x\n",
    "         self.y = y\n",
    "     def __repr__(self):\n",
    "         return f'Vector({self.x!r}, {self.y!r})'\n",
    "     def __abs__(self):\n",
    "         return math.hypot(self.x, self.y)\n",
    "     def __bool__(self):\n",
    "         return bool(abs(self))\n",
    "     def __add__(self, other):\n",
    "         x = self.x + other.x\n",
    "         y = self.y + other.y\n",
    "         return Vector(x, y)\n",
    "     #def __mul__(self, scalar):\n",
    "         #return Vector(self.x * scalar, self.y * scalar)\n",
    "     def __mul__(scalar, self):\n",
    "         return Vector(self.x * scalar, self.y * scalar)"
   ]
  },
  {
   "cell_type": "code",
   "execution_count": 36,
   "id": "8d43a040-656c-4fc7-bc24-8e46202dbfeb",
   "metadata": {},
   "outputs": [],
   "source": [
    "v=Vector(1,2)"
   ]
  },
  {
   "cell_type": "code",
   "execution_count": 39,
   "id": "25135f51-b31d-45c3-b5e8-819a790c6ece",
   "metadata": {},
   "outputs": [
    {
     "ename": "SyntaxError",
     "evalue": "invalid decimal literal (2770980451.py, line 1)",
     "output_type": "error",
     "traceback": [
      "\u001b[1;36m  Cell \u001b[1;32mIn[39], line 1\u001b[1;36m\u001b[0m\n\u001b[1;33m    2v\u001b[0m\n\u001b[1;37m    ^\u001b[0m\n\u001b[1;31mSyntaxError\u001b[0m\u001b[1;31m:\u001b[0m invalid decimal literal\n"
     ]
    }
   ],
   "source": [
    "2v"
   ]
  },
  {
   "cell_type": "code",
   "execution_count": 21,
   "id": "5f673c70-4a74-452b-abc4-4ff60e4f5f68",
   "metadata": {},
   "outputs": [
    {
     "data": {
      "text/plain": [
       "1"
      ]
     },
     "execution_count": 21,
     "metadata": {},
     "output_type": "execute_result"
    }
   ],
   "source": [
    "v.x**2"
   ]
  },
  {
   "cell_type": "code",
   "execution_count": 42,
   "id": "92e81766-6fc1-4780-9346-e95561f3b90d",
   "metadata": {},
   "outputs": [],
   "source": [
    "class HauntedBus:\n",
    " \"\"\"Автобус, облюбованный пассажирами-призраками\"\"\"\n",
    " def __init__(self, passengers=[]): \n",
    "     self.passengers = passengers\n",
    " def pick(self, name):\n",
    "     self.passengers.append(name)\n",
    " def drop(self, name):\n",
    "     self.passengers.remove(name)"
   ]
  },
  {
   "cell_type": "code",
   "execution_count": 43,
   "id": "f4c803c6-87f7-4506-af9a-6491d6f36bd4",
   "metadata": {},
   "outputs": [],
   "source": [
    "bus1 = HauntedBus()"
   ]
  },
  {
   "cell_type": "code",
   "execution_count": 47,
   "id": "c91dc1c1-a23f-416f-afe2-0b2d9a8ae952",
   "metadata": {},
   "outputs": [],
   "source": [
    "bus1.pick('Andrew')"
   ]
  },
  {
   "cell_type": "code",
   "execution_count": 49,
   "id": "13cfeb62-4226-44d3-a946-b631c9dd54ae",
   "metadata": {},
   "outputs": [],
   "source": [
    "bus1.pick('Yulia')"
   ]
  },
  {
   "cell_type": "code",
   "execution_count": 52,
   "id": "0379dadd-38d6-4526-b981-199ede37f41a",
   "metadata": {},
   "outputs": [
    {
     "data": {
      "text/plain": [
       "['Andrew', 'Yulia', 'Andrew']"
      ]
     },
     "execution_count": 52,
     "metadata": {},
     "output_type": "execute_result"
    }
   ],
   "source": [
    "bus1.passengers"
   ]
  },
  {
   "cell_type": "code",
   "execution_count": 51,
   "id": "16cb24f1-bc2b-433b-a138-1b370e3f00bf",
   "metadata": {},
   "outputs": [],
   "source": [
    "bus1.pick('Andrew')"
   ]
  },
  {
   "cell_type": "code",
   "execution_count": 53,
   "id": "50557bf5-fa8c-4d19-9dc3-c8b72bd46af8",
   "metadata": {},
   "outputs": [],
   "source": [
    "bus1.drop('Yulia')"
   ]
  },
  {
   "cell_type": "code",
   "execution_count": 55,
   "id": "f5660892-042a-442d-8b13-e5dc76cd7efc",
   "metadata": {},
   "outputs": [
    {
     "data": {
      "text/plain": [
       "['Andrew', 'Andrew']"
      ]
     },
     "execution_count": 55,
     "metadata": {},
     "output_type": "execute_result"
    }
   ],
   "source": [
    "bus1.passengers"
   ]
  },
  {
   "cell_type": "code",
   "execution_count": 56,
   "id": "7162825e-508a-4932-ab93-7d4442d431c9",
   "metadata": {},
   "outputs": [],
   "source": [
    "bus1.drop('Andrew')"
   ]
  },
  {
   "cell_type": "code",
   "execution_count": 57,
   "id": "f9d4a8eb-e47e-4614-832e-2fad7606dbb5",
   "metadata": {},
   "outputs": [
    {
     "data": {
      "text/plain": [
       "['Andrew']"
      ]
     },
     "execution_count": 57,
     "metadata": {},
     "output_type": "execute_result"
    }
   ],
   "source": [
    "bus1.passengers"
   ]
  },
  {
   "cell_type": "code",
   "execution_count": 58,
   "id": "65f54ca7-9405-4b3a-9698-b466f1d6283f",
   "metadata": {},
   "outputs": [],
   "source": [
    " bus3 = HauntedBus()"
   ]
  },
  {
   "cell_type": "code",
   "execution_count": 59,
   "id": "4d9727ae-2263-49c7-a9a2-96b9d5816ace",
   "metadata": {},
   "outputs": [
    {
     "data": {
      "text/plain": [
       "['Andrew']"
      ]
     },
     "execution_count": 59,
     "metadata": {},
     "output_type": "execute_result"
    }
   ],
   "source": [
    "bus3.passengers"
   ]
  },
  {
   "cell_type": "code",
   "execution_count": 60,
   "id": "d51b47b0-26af-40b1-a7d4-85bccaffa4e7",
   "metadata": {},
   "outputs": [
    {
     "data": {
      "text/plain": [
       "True"
      ]
     },
     "execution_count": 60,
     "metadata": {},
     "output_type": "execute_result"
    }
   ],
   "source": [
    "bus1.passengers is bus3.passengers"
   ]
  },
  {
   "cell_type": "code",
   "execution_count": 61,
   "id": "0e536d9a-d710-49da-8764-6113c0827355",
   "metadata": {},
   "outputs": [
    {
     "data": {
      "text/plain": [
       "(['Andrew'],)"
      ]
     },
     "execution_count": 61,
     "metadata": {},
     "output_type": "execute_result"
    }
   ],
   "source": [
    " HauntedBus.__init__.__defaults__"
   ]
  },
  {
   "cell_type": "code",
   "execution_count": null,
   "id": "6da1ba56-90d5-4d8a-b917-316b3839aee0",
   "metadata": {},
   "outputs": [],
   "source": []
  }
 ],
 "metadata": {
  "kernelspec": {
   "display_name": "Python [conda env:base] *",
   "language": "python",
   "name": "conda-base-py"
  },
  "language_info": {
   "codemirror_mode": {
    "name": "ipython",
    "version": 3
   },
   "file_extension": ".py",
   "mimetype": "text/x-python",
   "name": "python",
   "nbconvert_exporter": "python",
   "pygments_lexer": "ipython3",
   "version": "3.13.5"
  }
 },
 "nbformat": 4,
 "nbformat_minor": 5
}
